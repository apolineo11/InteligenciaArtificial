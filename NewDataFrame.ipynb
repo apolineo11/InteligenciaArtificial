{
 "cells": [
  {
   "cell_type": "code",
   "execution_count": 1,
   "id": "7bae7dba-547a-48a3-a848-d462313d583d",
   "metadata": {},
   "outputs": [],
   "source": [
    "import pandas as pd\n",
    "import os\n",
    "import numpy as np\n",
    "\n",
    "# fuente de datos\n",
    "iris_url = \"https://datahub.io/machine-learning/iris/r/iris.csv\""
   ]
  },
  {
   "cell_type": "code",
   "execution_count": 2,
   "id": "95dd245f-caf2-4763-8f68-a853171cb450",
   "metadata": {},
   "outputs": [],
   "source": [
    "# clase data frame con metodos nuevos\n",
    "\n",
    "class NewDataFrame(pd.DataFrame):\n",
    "    '''\n",
    "    Crear una clase que heredada de DataFrame de pandas que implementa\n",
    "    una metodos para:\n",
    "    iterar sobre las filas\n",
    "    visualizar el nombre de las columnas\n",
    "    generar estadísticas descriptivas sobre las variables numéricas\n",
    "    generar estadística descriptiva sobre una columna numérica y su correspondiente histograma\n",
    "    '''\n",
    "    def __init__(self, *args, **kwargs):\n",
    "        super().__init__(*args, **kwargs)\n",
    "        self.__nrow = self.shape[0] - 1\n",
    "\n",
    "    def __iter__(self):\n",
    "        self.__idxrow = 0\n",
    "        return self\n",
    "\n",
    "    def __next__(self):\n",
    "        if self.__idxrow <= self.__nrow:\n",
    "            row = self.iloc[[self.__idxrow]]\n",
    "            self.__idxrow += 1\n",
    "            return row\n",
    "        else:\n",
    "            print(\"Los datos se han agotado\")\n",
    "            raise StopIteration\n",
    "    \n",
    "    def var_names(self):\n",
    "        names = self.columns.to_list()\n",
    "        for name in names:\n",
    "            print(\"El dataframe contiene la variable: {}\".format(name))\n",
    "        return names\n",
    "    \n",
    "    def summarize_basic(self):\n",
    "        numeric_df = self.select_dtypes(include=np.number)\n",
    "        return numeric_df.describe()\n",
    "    \n",
    "    def summarize_column(self, column_name):\n",
    "        sumarize_series = self[[column_name]].describe()\n",
    "        hist_series = self.plot.hist(column=column_name)\n",
    "        return sumarize_series, hist_series"
   ]
  },
  {
   "cell_type": "code",
   "execution_count": 3,
   "id": "4f953bdc-ddf2-496b-8dc0-160546fa1763",
   "metadata": {},
   "outputs": [
    {
     "name": "stdout",
     "output_type": "stream",
     "text": [
      "El dataframe contiene la variable: sepallength\n",
      "El dataframe contiene la variable: sepalwidth\n",
      "El dataframe contiene la variable: petallength\n",
      "El dataframe contiene la variable: petalwidth\n",
      "El dataframe contiene la variable: class\n"
     ]
    },
    {
     "data": {
      "text/plain": [
       "['sepallength', 'sepalwidth', 'petallength', 'petalwidth', 'class']"
      ]
     },
     "execution_count": 3,
     "metadata": {},
     "output_type": "execute_result"
    }
   ],
   "source": [
    "iris_df = NewDataFrame(pd.read_csv(iris_url))\n",
    "ColNames = iris_df.var_names()\n",
    "ColNames"
   ]
  },
  {
   "cell_type": "code",
   "execution_count": 4,
   "id": "4b5f0662-1d0e-4618-bc71-916bb0bb867b",
   "metadata": {},
   "outputs": [
    {
     "data": {
      "text/html": [
       "<div>\n",
       "<style scoped>\n",
       "    .dataframe tbody tr th:only-of-type {\n",
       "        vertical-align: middle;\n",
       "    }\n",
       "\n",
       "    .dataframe tbody tr th {\n",
       "        vertical-align: top;\n",
       "    }\n",
       "\n",
       "    .dataframe thead th {\n",
       "        text-align: right;\n",
       "    }\n",
       "</style>\n",
       "<table border=\"1\" class=\"dataframe\">\n",
       "  <thead>\n",
       "    <tr style=\"text-align: right;\">\n",
       "      <th></th>\n",
       "      <th>sepallength</th>\n",
       "      <th>sepalwidth</th>\n",
       "      <th>petallength</th>\n",
       "      <th>petalwidth</th>\n",
       "    </tr>\n",
       "  </thead>\n",
       "  <tbody>\n",
       "    <tr>\n",
       "      <th>count</th>\n",
       "      <td>150.000000</td>\n",
       "      <td>150.000000</td>\n",
       "      <td>150.000000</td>\n",
       "      <td>150.000000</td>\n",
       "    </tr>\n",
       "    <tr>\n",
       "      <th>mean</th>\n",
       "      <td>5.843333</td>\n",
       "      <td>3.054000</td>\n",
       "      <td>3.758667</td>\n",
       "      <td>1.198667</td>\n",
       "    </tr>\n",
       "    <tr>\n",
       "      <th>std</th>\n",
       "      <td>0.828066</td>\n",
       "      <td>0.433594</td>\n",
       "      <td>1.764420</td>\n",
       "      <td>0.763161</td>\n",
       "    </tr>\n",
       "    <tr>\n",
       "      <th>min</th>\n",
       "      <td>4.300000</td>\n",
       "      <td>2.000000</td>\n",
       "      <td>1.000000</td>\n",
       "      <td>0.100000</td>\n",
       "    </tr>\n",
       "    <tr>\n",
       "      <th>25%</th>\n",
       "      <td>5.100000</td>\n",
       "      <td>2.800000</td>\n",
       "      <td>1.600000</td>\n",
       "      <td>0.300000</td>\n",
       "    </tr>\n",
       "    <tr>\n",
       "      <th>50%</th>\n",
       "      <td>5.800000</td>\n",
       "      <td>3.000000</td>\n",
       "      <td>4.350000</td>\n",
       "      <td>1.300000</td>\n",
       "    </tr>\n",
       "    <tr>\n",
       "      <th>75%</th>\n",
       "      <td>6.400000</td>\n",
       "      <td>3.300000</td>\n",
       "      <td>5.100000</td>\n",
       "      <td>1.800000</td>\n",
       "    </tr>\n",
       "    <tr>\n",
       "      <th>max</th>\n",
       "      <td>7.900000</td>\n",
       "      <td>4.400000</td>\n",
       "      <td>6.900000</td>\n",
       "      <td>2.500000</td>\n",
       "    </tr>\n",
       "  </tbody>\n",
       "</table>\n",
       "</div>"
      ],
      "text/plain": [
       "       sepallength  sepalwidth  petallength  petalwidth\n",
       "count   150.000000  150.000000   150.000000  150.000000\n",
       "mean      5.843333    3.054000     3.758667    1.198667\n",
       "std       0.828066    0.433594     1.764420    0.763161\n",
       "min       4.300000    2.000000     1.000000    0.100000\n",
       "25%       5.100000    2.800000     1.600000    0.300000\n",
       "50%       5.800000    3.000000     4.350000    1.300000\n",
       "75%       6.400000    3.300000     5.100000    1.800000\n",
       "max       7.900000    4.400000     6.900000    2.500000"
      ]
     },
     "execution_count": 4,
     "metadata": {},
     "output_type": "execute_result"
    }
   ],
   "source": [
    "describe = iris_df.summarize_basic()\n",
    "describe"
   ]
  },
  {
   "cell_type": "code",
   "execution_count": 5,
   "id": "39c86c10-a17a-4966-95a3-077ce1e49770",
   "metadata": {},
   "outputs": [
    {
     "data": {
      "image/png": "[encoded data removed]",
      "text/plain": [
       "<Figure size 640x480 with 1 Axes>"
      ]
     },
     "metadata": {},
     "output_type": "display_data"
    }
   ],
   "source": [
    "summary, hist = iris_df.summarize_column(\"sepalwidth\")"
   ]
  },
  {
   "cell_type": "code",
   "execution_count": 6,
   "id": "6f8a68aa-4a4f-403e-aba8-d08a0ae9607d",
   "metadata": {},
   "outputs": [
    {
     "data": {
      "text/html": [
       "<div>\n",
       "<style scoped>\n",
       "    .dataframe tbody tr th:only-of-type {\n",
       "        vertical-align: middle;\n",
       "    }\n",
       "\n",
       "    .dataframe tbody tr th {\n",
       "        vertical-align: top;\n",
       "    }\n",
       "\n",
       "    .dataframe thead th {\n",
       "        text-align: right;\n",
       "    }\n",
       "</style>\n",
       "<table border=\"1\" class=\"dataframe\">\n",
       "  <thead>\n",
       "    <tr style=\"text-align: right;\">\n",
       "      <th></th>\n",
       "      <th>sepalwidth</th>\n",
       "    </tr>\n",
       "  </thead>\n",
       "  <tbody>\n",
       "    <tr>\n",
       "      <th>count</th>\n",
       "      <td>150.000000</td>\n",
       "    </tr>\n",
       "    <tr>\n",
       "      <th>mean</th>\n",
       "      <td>3.054000</td>\n",
       "    </tr>\n",
       "    <tr>\n",
       "      <th>std</th>\n",
       "      <td>0.433594</td>\n",
       "    </tr>\n",
       "    <tr>\n",
       "      <th>min</th>\n",
       "      <td>2.000000</td>\n",
       "    </tr>\n",
       "    <tr>\n",
       "      <th>25%</th>\n",
       "      <td>2.800000</td>\n",
       "    </tr>\n",
       "    <tr>\n",
       "      <th>50%</th>\n",
       "      <td>3.000000</td>\n",
       "    </tr>\n",
       "    <tr>\n",
       "      <th>75%</th>\n",
       "      <td>3.300000</td>\n",
       "    </tr>\n",
       "    <tr>\n",
       "      <th>max</th>\n",
       "      <td>4.400000</td>\n",
       "    </tr>\n",
       "  </tbody>\n",
       "</table>\n",
       "</div>"
      ],
      "text/plain": [
       "       sepalwidth\n",
       "count  150.000000\n",
       "mean     3.054000\n",
       "std      0.433594\n",
       "min      2.000000\n",
       "25%      2.800000\n",
       "50%      3.000000\n",
       "75%      3.300000\n",
       "max      4.400000"
      ]
     },
     "execution_count": 6,
     "metadata": {},
     "output_type": "execute_result"
    }
   ],
   "source": [
    "summary"
   ]
  }
 ],
 "metadata": {
  "kernelspec": {
   "display_name": "Python 3 (ipykernel)",
   "language": "python",
   "name": "python3"
  },
  "language_info": {
   "codemirror_mode": {
    "name": "ipython",
    "version": 3
   },
   "file_extension": ".py",
   "mimetype": "text/x-python",
   "name": "python",
   "nbconvert_exporter": "python",
   "pygments_lexer": "ipython3",
   "version": "3.10.9"
  }
 },
 "nbformat": 4,
 "nbformat_minor": 5
}
